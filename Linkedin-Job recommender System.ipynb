{
 "cells": [
  {
   "cell_type": "code",
   "execution_count": 1,
   "id": "d66316f4",
   "metadata": {},
   "outputs": [
    {
     "name": "stdout",
     "output_type": "stream",
     "text": [
      "Collecting kaggle\n",
      "  Downloading kaggle-1.6.17.tar.gz (82 kB)\n",
      "\u001b[2K     \u001b[90m━━━━━━━━━━━━━━━━━━━━━━━━━━━━━━━━━━━━━━━━\u001b[0m \u001b[32m82.7/82.7 kB\u001b[0m \u001b[31m1.6 MB/s\u001b[0m eta \u001b[36m0:00:00\u001b[0m00:01\u001b[0m\n",
      "\u001b[?25h  Preparing metadata (setup.py) ... \u001b[?25ldone\n",
      "\u001b[?25hRequirement already satisfied: six>=1.10 in ./anaconda3/lib/python3.10/site-packages (from kaggle) (1.16.0)\n",
      "Collecting certifi>=2023.7.22 (from kaggle)\n",
      "  Downloading certifi-2024.8.30-py3-none-any.whl.metadata (2.2 kB)\n",
      "Requirement already satisfied: python-dateutil in ./anaconda3/lib/python3.10/site-packages (from kaggle) (2.8.2)\n",
      "Requirement already satisfied: requests in ./anaconda3/lib/python3.10/site-packages (from kaggle) (2.23.0)\n",
      "Requirement already satisfied: tqdm in ./anaconda3/lib/python3.10/site-packages (from kaggle) (4.64.1)\n",
      "Requirement already satisfied: python-slugify in ./anaconda3/lib/python3.10/site-packages (from kaggle) (5.0.2)\n",
      "Requirement already satisfied: urllib3 in ./anaconda3/lib/python3.10/site-packages (from kaggle) (1.25.9)\n",
      "Requirement already satisfied: bleach in ./anaconda3/lib/python3.10/site-packages (from kaggle) (4.1.0)\n",
      "Requirement already satisfied: packaging in ./anaconda3/lib/python3.10/site-packages (from bleach->kaggle) (22.0)\n",
      "Requirement already satisfied: webencodings in ./anaconda3/lib/python3.10/site-packages (from bleach->kaggle) (0.5.1)\n",
      "Requirement already satisfied: text-unidecode>=1.3 in ./anaconda3/lib/python3.10/site-packages (from python-slugify->kaggle) (1.3)\n",
      "Requirement already satisfied: chardet<4,>=3.0.2 in ./anaconda3/lib/python3.10/site-packages (from requests->kaggle) (3.0.4)\n",
      "Requirement already satisfied: idna<3,>=2.5 in ./anaconda3/lib/python3.10/site-packages (from requests->kaggle) (2.9)\n",
      "Downloading certifi-2024.8.30-py3-none-any.whl (167 kB)\n",
      "\u001b[2K   \u001b[90m━━━━━━━━━━━━━━━━━━━━━━━━━━━━━━━━━━━━━━━━\u001b[0m \u001b[32m167.3/167.3 kB\u001b[0m \u001b[31m1.4 MB/s\u001b[0m eta \u001b[36m0:00:00\u001b[0ma \u001b[36m0:00:01\u001b[0m\n",
      "\u001b[?25hBuilding wheels for collected packages: kaggle\n",
      "  Building wheel for kaggle (setup.py) ... \u001b[?25ldone\n",
      "\u001b[?25h  Created wheel for kaggle: filename=kaggle-1.6.17-py3-none-any.whl size=105789 sha256=b630d771c6dbbd55b0fff5ae0558e17be022e3e7c9396f2bc118271669c5f54d\n",
      "  Stored in directory: /Users/amansahu/Library/Caches/pip/wheels/9f/af/22/bf406f913dc7506a485e60dce8143741abd0a92a19337d83a3\n",
      "Successfully built kaggle\n",
      "Installing collected packages: certifi, kaggle\n",
      "  Attempting uninstall: certifi\n",
      "    Found existing installation: certifi 2020.4.5.1\n",
      "    Uninstalling certifi-2020.4.5.1:\n",
      "      Successfully uninstalled certifi-2020.4.5.1\n",
      "Successfully installed certifi-2024.8.30 kaggle-1.6.17\n",
      "\n",
      "\u001b[1m[\u001b[0m\u001b[34;49mnotice\u001b[0m\u001b[1;39;49m]\u001b[0m\u001b[39;49m A new release of pip is available: \u001b[0m\u001b[31;49m24.0\u001b[0m\u001b[39;49m -> \u001b[0m\u001b[32;49m24.2\u001b[0m\n",
      "\u001b[1m[\u001b[0m\u001b[34;49mnotice\u001b[0m\u001b[1;39;49m]\u001b[0m\u001b[39;49m To update, run: \u001b[0m\u001b[32;49mpip install --upgrade pip\u001b[0m\n"
     ]
    }
   ],
   "source": [
    "!pip install kaggle\n"
   ]
  },
  {
   "cell_type": "code",
   "execution_count": 2,
   "id": "fe39b9a6",
   "metadata": {},
   "outputs": [
    {
     "name": "stdout",
     "output_type": "stream",
     "text": [
      "Requirement already satisfied: pip in ./anaconda3/lib/python3.10/site-packages (24.0)\n",
      "Collecting pip\n",
      "  Downloading pip-24.2-py3-none-any.whl.metadata (3.6 kB)\n",
      "Downloading pip-24.2-py3-none-any.whl (1.8 MB)\n",
      "\u001b[2K   \u001b[90m━━━━━━━━━━━━━━━━━━━━━━━━━━━━━━━━━━━━━━━━\u001b[0m \u001b[32m1.8/1.8 MB\u001b[0m \u001b[31m10.5 MB/s\u001b[0m eta \u001b[36m0:00:00\u001b[0m00:01\u001b[0m0:01\u001b[0m\n",
      "\u001b[?25hInstalling collected packages: pip\n",
      "  Attempting uninstall: pip\n",
      "    Found existing installation: pip 24.0\n",
      "    Uninstalling pip-24.0:\n",
      "      Successfully uninstalled pip-24.0\n",
      "Successfully installed pip-24.2\n",
      "Note: you may need to restart the kernel to use updated packages.\n"
     ]
    }
   ],
   "source": [
    "pip install --upgrade pip"
   ]
  },
  {
   "cell_type": "code",
   "execution_count": null,
   "id": "796363b7",
   "metadata": {},
   "outputs": [],
   "source": [
    "\n"
   ]
  },
  {
   "cell_type": "code",
   "execution_count": null,
   "id": "48d8340c",
   "metadata": {},
   "outputs": [],
   "source": []
  },
  {
   "cell_type": "code",
   "execution_count": 3,
   "id": "c376e07f",
   "metadata": {},
   "outputs": [
    {
     "name": "stdout",
     "output_type": "stream",
     "text": [
      "Dataset URL: https://www.kaggle.com/datasets/asaniczka/1-3m-linkedin-jobs-and-skills-2024\n",
      "License(s): ODC Attribution License (ODC-By)\n",
      "Downloading 1-3m-linkedin-jobs-and-skills-2024.zip to /Users/amansahu\n",
      "100%|█████████████████████████████████████▉| 1.87G/1.88G [01:00<00:00, 34.6MB/s]\n",
      "100%|██████████████████████████████████████| 1.88G/1.88G [01:00<00:00, 33.4MB/s]\n",
      "Archive:  1-3m-linkedin-jobs-and-skills-2024.zip\n",
      "  inflating: job_skills.csv          \n",
      "  inflating: job_summary.csv         \n",
      "  inflating: linkedin_job_postings.csv  \n"
     ]
    }
   ],
   "source": [
    "#data set\n",
    "\n",
    "!kaggle datasets download -d asaniczka/1-3m-linkedin-jobs-and-skills-2024\n",
    "#unzip the file to access contents\n",
    "!unzip 1-3m-linkedin-jobs-and-skills-2024.zip"
   ]
  },
  {
   "cell_type": "code",
   "execution_count": 1,
   "id": "3c23ae8e",
   "metadata": {},
   "outputs": [],
   "source": [
    "import pandas as pd"
   ]
  },
  {
   "cell_type": "code",
   "execution_count": 2,
   "id": "2df43b02",
   "metadata": {},
   "outputs": [],
   "source": [
    "job_skills = pd.read_csv(\"job_skills.csv\")"
   ]
  },
  {
   "cell_type": "code",
   "execution_count": 3,
   "id": "f1f09e78",
   "metadata": {},
   "outputs": [],
   "source": [
    "job_posting = pd.read_csv(\"linkedin_job_postings.csv\")"
   ]
  },
  {
   "cell_type": "code",
   "execution_count": 4,
   "id": "5cb243f3",
   "metadata": {},
   "outputs": [
    {
     "data": {
      "text/html": [
       "<div>\n",
       "<style scoped>\n",
       "    .dataframe tbody tr th:only-of-type {\n",
       "        vertical-align: middle;\n",
       "    }\n",
       "\n",
       "    .dataframe tbody tr th {\n",
       "        vertical-align: top;\n",
       "    }\n",
       "\n",
       "    .dataframe thead th {\n",
       "        text-align: right;\n",
       "    }\n",
       "</style>\n",
       "<table border=\"1\" class=\"dataframe\">\n",
       "  <thead>\n",
       "    <tr style=\"text-align: right;\">\n",
       "      <th></th>\n",
       "      <th>job_link</th>\n",
       "      <th>job_skills</th>\n",
       "    </tr>\n",
       "  </thead>\n",
       "  <tbody>\n",
       "    <tr>\n",
       "      <th>0</th>\n",
       "      <td>https://www.linkedin.com/jobs/view/housekeeper...</td>\n",
       "      <td>Building Custodial Services, Cleaning, Janitor...</td>\n",
       "    </tr>\n",
       "    <tr>\n",
       "      <th>1</th>\n",
       "      <td>https://www.linkedin.com/jobs/view/assistant-g...</td>\n",
       "      <td>Customer service, Restaurant management, Food ...</td>\n",
       "    </tr>\n",
       "    <tr>\n",
       "      <th>2</th>\n",
       "      <td>https://www.linkedin.com/jobs/view/school-base...</td>\n",
       "      <td>Applied Behavior Analysis (ABA), Data analysis...</td>\n",
       "    </tr>\n",
       "    <tr>\n",
       "      <th>3</th>\n",
       "      <td>https://www.linkedin.com/jobs/view/electrical-...</td>\n",
       "      <td>Electrical Engineering, Project Controls, Sche...</td>\n",
       "    </tr>\n",
       "    <tr>\n",
       "      <th>4</th>\n",
       "      <td>https://www.linkedin.com/jobs/view/electrical-...</td>\n",
       "      <td>Electrical Assembly, Point to point wiring, St...</td>\n",
       "    </tr>\n",
       "  </tbody>\n",
       "</table>\n",
       "</div>"
      ],
      "text/plain": [
       "                                            job_link  \\\n",
       "0  https://www.linkedin.com/jobs/view/housekeeper...   \n",
       "1  https://www.linkedin.com/jobs/view/assistant-g...   \n",
       "2  https://www.linkedin.com/jobs/view/school-base...   \n",
       "3  https://www.linkedin.com/jobs/view/electrical-...   \n",
       "4  https://www.linkedin.com/jobs/view/electrical-...   \n",
       "\n",
       "                                          job_skills  \n",
       "0  Building Custodial Services, Cleaning, Janitor...  \n",
       "1  Customer service, Restaurant management, Food ...  \n",
       "2  Applied Behavior Analysis (ABA), Data analysis...  \n",
       "3  Electrical Engineering, Project Controls, Sche...  \n",
       "4  Electrical Assembly, Point to point wiring, St...  "
      ]
     },
     "execution_count": 4,
     "metadata": {},
     "output_type": "execute_result"
    }
   ],
   "source": [
    "job_skills.head()"
   ]
  },
  {
   "cell_type": "code",
   "execution_count": 5,
   "id": "a8949caa",
   "metadata": {},
   "outputs": [
    {
     "data": {
      "text/html": [
       "<div>\n",
       "<style scoped>\n",
       "    .dataframe tbody tr th:only-of-type {\n",
       "        vertical-align: middle;\n",
       "    }\n",
       "\n",
       "    .dataframe tbody tr th {\n",
       "        vertical-align: top;\n",
       "    }\n",
       "\n",
       "    .dataframe thead th {\n",
       "        text-align: right;\n",
       "    }\n",
       "</style>\n",
       "<table border=\"1\" class=\"dataframe\">\n",
       "  <thead>\n",
       "    <tr style=\"text-align: right;\">\n",
       "      <th></th>\n",
       "      <th>job_link</th>\n",
       "      <th>last_processed_time</th>\n",
       "      <th>got_summary</th>\n",
       "      <th>got_ner</th>\n",
       "      <th>is_being_worked</th>\n",
       "      <th>job_title</th>\n",
       "      <th>company</th>\n",
       "      <th>job_location</th>\n",
       "      <th>first_seen</th>\n",
       "      <th>search_city</th>\n",
       "      <th>search_country</th>\n",
       "      <th>search_position</th>\n",
       "      <th>job_level</th>\n",
       "      <th>job_type</th>\n",
       "    </tr>\n",
       "  </thead>\n",
       "  <tbody>\n",
       "    <tr>\n",
       "      <th>0</th>\n",
       "      <td>https://www.linkedin.com/jobs/view/account-exe...</td>\n",
       "      <td>2024-01-21 07:12:29.00256+00</td>\n",
       "      <td>t</td>\n",
       "      <td>t</td>\n",
       "      <td>f</td>\n",
       "      <td>Account Executive - Dispensing (NorCal/Norther...</td>\n",
       "      <td>BD</td>\n",
       "      <td>San Diego, CA</td>\n",
       "      <td>2024-01-15</td>\n",
       "      <td>Coronado</td>\n",
       "      <td>United States</td>\n",
       "      <td>Color Maker</td>\n",
       "      <td>Mid senior</td>\n",
       "      <td>Onsite</td>\n",
       "    </tr>\n",
       "    <tr>\n",
       "      <th>1</th>\n",
       "      <td>https://www.linkedin.com/jobs/view/registered-...</td>\n",
       "      <td>2024-01-21 07:39:58.88137+00</td>\n",
       "      <td>t</td>\n",
       "      <td>t</td>\n",
       "      <td>f</td>\n",
       "      <td>Registered Nurse - RN Care Manager</td>\n",
       "      <td>Trinity Health MI</td>\n",
       "      <td>Norton Shores, MI</td>\n",
       "      <td>2024-01-14</td>\n",
       "      <td>Grand Haven</td>\n",
       "      <td>United States</td>\n",
       "      <td>Director Nursing Service</td>\n",
       "      <td>Mid senior</td>\n",
       "      <td>Onsite</td>\n",
       "    </tr>\n",
       "    <tr>\n",
       "      <th>2</th>\n",
       "      <td>https://www.linkedin.com/jobs/view/restaurant-...</td>\n",
       "      <td>2024-01-21 07:40:00.251126+00</td>\n",
       "      <td>t</td>\n",
       "      <td>t</td>\n",
       "      <td>f</td>\n",
       "      <td>RESTAURANT SUPERVISOR - THE FORKLIFT</td>\n",
       "      <td>Wasatch Adaptive Sports</td>\n",
       "      <td>Sandy, UT</td>\n",
       "      <td>2024-01-14</td>\n",
       "      <td>Tooele</td>\n",
       "      <td>United States</td>\n",
       "      <td>Stand-In</td>\n",
       "      <td>Mid senior</td>\n",
       "      <td>Onsite</td>\n",
       "    </tr>\n",
       "    <tr>\n",
       "      <th>3</th>\n",
       "      <td>https://www.linkedin.com/jobs/view/independent...</td>\n",
       "      <td>2024-01-21 07:40:00.308133+00</td>\n",
       "      <td>t</td>\n",
       "      <td>t</td>\n",
       "      <td>f</td>\n",
       "      <td>Independent Real Estate Agent</td>\n",
       "      <td>Howard Hanna | Rand Realty</td>\n",
       "      <td>Englewood Cliffs, NJ</td>\n",
       "      <td>2024-01-16</td>\n",
       "      <td>Pinehurst</td>\n",
       "      <td>United States</td>\n",
       "      <td>Real-Estate Clerk</td>\n",
       "      <td>Mid senior</td>\n",
       "      <td>Onsite</td>\n",
       "    </tr>\n",
       "    <tr>\n",
       "      <th>4</th>\n",
       "      <td>https://www.linkedin.com/jobs/view/group-unit-...</td>\n",
       "      <td>2024-01-19 09:45:09.215838+00</td>\n",
       "      <td>f</td>\n",
       "      <td>f</td>\n",
       "      <td>f</td>\n",
       "      <td>Group/Unit Supervisor (Systems Support Manager...</td>\n",
       "      <td>IRS, Office of Chief Counsel</td>\n",
       "      <td>Chamblee, GA</td>\n",
       "      <td>2024-01-17</td>\n",
       "      <td>Gadsden</td>\n",
       "      <td>United States</td>\n",
       "      <td>Supervisor Travel-Information Center</td>\n",
       "      <td>Mid senior</td>\n",
       "      <td>Onsite</td>\n",
       "    </tr>\n",
       "  </tbody>\n",
       "</table>\n",
       "</div>"
      ],
      "text/plain": [
       "                                            job_link  \\\n",
       "0  https://www.linkedin.com/jobs/view/account-exe...   \n",
       "1  https://www.linkedin.com/jobs/view/registered-...   \n",
       "2  https://www.linkedin.com/jobs/view/restaurant-...   \n",
       "3  https://www.linkedin.com/jobs/view/independent...   \n",
       "4  https://www.linkedin.com/jobs/view/group-unit-...   \n",
       "\n",
       "             last_processed_time got_summary got_ner is_being_worked  \\\n",
       "0   2024-01-21 07:12:29.00256+00           t       t               f   \n",
       "1   2024-01-21 07:39:58.88137+00           t       t               f   \n",
       "2  2024-01-21 07:40:00.251126+00           t       t               f   \n",
       "3  2024-01-21 07:40:00.308133+00           t       t               f   \n",
       "4  2024-01-19 09:45:09.215838+00           f       f               f   \n",
       "\n",
       "                                           job_title  \\\n",
       "0  Account Executive - Dispensing (NorCal/Norther...   \n",
       "1                 Registered Nurse - RN Care Manager   \n",
       "2               RESTAURANT SUPERVISOR - THE FORKLIFT   \n",
       "3                      Independent Real Estate Agent   \n",
       "4  Group/Unit Supervisor (Systems Support Manager...   \n",
       "\n",
       "                        company          job_location  first_seen  \\\n",
       "0                            BD         San Diego, CA  2024-01-15   \n",
       "1             Trinity Health MI     Norton Shores, MI  2024-01-14   \n",
       "2       Wasatch Adaptive Sports             Sandy, UT  2024-01-14   \n",
       "3    Howard Hanna | Rand Realty  Englewood Cliffs, NJ  2024-01-16   \n",
       "4  IRS, Office of Chief Counsel          Chamblee, GA  2024-01-17   \n",
       "\n",
       "   search_city search_country                       search_position  \\\n",
       "0     Coronado  United States                           Color Maker   \n",
       "1  Grand Haven  United States              Director Nursing Service   \n",
       "2       Tooele  United States                              Stand-In   \n",
       "3    Pinehurst  United States                     Real-Estate Clerk   \n",
       "4      Gadsden  United States  Supervisor Travel-Information Center   \n",
       "\n",
       "    job_level job_type  \n",
       "0  Mid senior   Onsite  \n",
       "1  Mid senior   Onsite  \n",
       "2  Mid senior   Onsite  \n",
       "3  Mid senior   Onsite  \n",
       "4  Mid senior   Onsite  "
      ]
     },
     "execution_count": 5,
     "metadata": {},
     "output_type": "execute_result"
    }
   ],
   "source": [
    "job_posting.head()"
   ]
  },
  {
   "cell_type": "code",
   "execution_count": 6,
   "id": "0b09e395",
   "metadata": {},
   "outputs": [],
   "source": [
    "job_posting = pd.merge(job_posting, job_skills, on = 'job_link', how = 'inner') "
   ]
  },
  {
   "cell_type": "code",
   "execution_count": 7,
   "id": "5bc526f0",
   "metadata": {},
   "outputs": [
    {
     "data": {
      "text/html": [
       "<div>\n",
       "<style scoped>\n",
       "    .dataframe tbody tr th:only-of-type {\n",
       "        vertical-align: middle;\n",
       "    }\n",
       "\n",
       "    .dataframe tbody tr th {\n",
       "        vertical-align: top;\n",
       "    }\n",
       "\n",
       "    .dataframe thead th {\n",
       "        text-align: right;\n",
       "    }\n",
       "</style>\n",
       "<table border=\"1\" class=\"dataframe\">\n",
       "  <thead>\n",
       "    <tr style=\"text-align: right;\">\n",
       "      <th></th>\n",
       "      <th>job_link</th>\n",
       "      <th>last_processed_time</th>\n",
       "      <th>got_summary</th>\n",
       "      <th>got_ner</th>\n",
       "      <th>is_being_worked</th>\n",
       "      <th>job_title</th>\n",
       "      <th>company</th>\n",
       "      <th>job_location</th>\n",
       "      <th>first_seen</th>\n",
       "      <th>search_city</th>\n",
       "      <th>search_country</th>\n",
       "      <th>search_position</th>\n",
       "      <th>job_level</th>\n",
       "      <th>job_type</th>\n",
       "      <th>job_skills</th>\n",
       "    </tr>\n",
       "  </thead>\n",
       "  <tbody>\n",
       "    <tr>\n",
       "      <th>0</th>\n",
       "      <td>https://www.linkedin.com/jobs/view/account-exe...</td>\n",
       "      <td>2024-01-21 07:12:29.00256+00</td>\n",
       "      <td>t</td>\n",
       "      <td>t</td>\n",
       "      <td>f</td>\n",
       "      <td>Account Executive - Dispensing (NorCal/Norther...</td>\n",
       "      <td>BD</td>\n",
       "      <td>San Diego, CA</td>\n",
       "      <td>2024-01-15</td>\n",
       "      <td>Coronado</td>\n",
       "      <td>United States</td>\n",
       "      <td>Color Maker</td>\n",
       "      <td>Mid senior</td>\n",
       "      <td>Onsite</td>\n",
       "      <td>Medical equipment sales, Key competitors, Term...</td>\n",
       "    </tr>\n",
       "    <tr>\n",
       "      <th>1</th>\n",
       "      <td>https://www.linkedin.com/jobs/view/registered-...</td>\n",
       "      <td>2024-01-21 07:39:58.88137+00</td>\n",
       "      <td>t</td>\n",
       "      <td>t</td>\n",
       "      <td>f</td>\n",
       "      <td>Registered Nurse - RN Care Manager</td>\n",
       "      <td>Trinity Health MI</td>\n",
       "      <td>Norton Shores, MI</td>\n",
       "      <td>2024-01-14</td>\n",
       "      <td>Grand Haven</td>\n",
       "      <td>United States</td>\n",
       "      <td>Director Nursing Service</td>\n",
       "      <td>Mid senior</td>\n",
       "      <td>Onsite</td>\n",
       "      <td>Nursing, Bachelor of Science in Nursing, Maste...</td>\n",
       "    </tr>\n",
       "  </tbody>\n",
       "</table>\n",
       "</div>"
      ],
      "text/plain": [
       "                                            job_link  \\\n",
       "0  https://www.linkedin.com/jobs/view/account-exe...   \n",
       "1  https://www.linkedin.com/jobs/view/registered-...   \n",
       "\n",
       "            last_processed_time got_summary got_ner is_being_worked  \\\n",
       "0  2024-01-21 07:12:29.00256+00           t       t               f   \n",
       "1  2024-01-21 07:39:58.88137+00           t       t               f   \n",
       "\n",
       "                                           job_title            company  \\\n",
       "0  Account Executive - Dispensing (NorCal/Norther...                 BD   \n",
       "1                 Registered Nurse - RN Care Manager  Trinity Health MI   \n",
       "\n",
       "        job_location  first_seen  search_city search_country  \\\n",
       "0      San Diego, CA  2024-01-15     Coronado  United States   \n",
       "1  Norton Shores, MI  2024-01-14  Grand Haven  United States   \n",
       "\n",
       "            search_position   job_level job_type  \\\n",
       "0               Color Maker  Mid senior   Onsite   \n",
       "1  Director Nursing Service  Mid senior   Onsite   \n",
       "\n",
       "                                          job_skills  \n",
       "0  Medical equipment sales, Key competitors, Term...  \n",
       "1  Nursing, Bachelor of Science in Nursing, Maste...  "
      ]
     },
     "execution_count": 7,
     "metadata": {},
     "output_type": "execute_result"
    }
   ],
   "source": [
    "job_posting.head(2)"
   ]
  },
  {
   "cell_type": "code",
   "execution_count": 8,
   "id": "e5083e21",
   "metadata": {},
   "outputs": [
    {
     "data": {
      "text/plain": [
       "job_link                  0\n",
       "last_processed_time       0\n",
       "got_summary               0\n",
       "got_ner                   0\n",
       "is_being_worked           0\n",
       "job_title                 0\n",
       "company                   9\n",
       "job_location             19\n",
       "first_seen                0\n",
       "search_city               0\n",
       "search_country            0\n",
       "search_position           0\n",
       "job_level                 0\n",
       "job_type                  0\n",
       "job_skills             2035\n",
       "dtype: int64"
      ]
     },
     "execution_count": 8,
     "metadata": {},
     "output_type": "execute_result"
    }
   ],
   "source": [
    "job_posting.isna().sum()"
   ]
  },
  {
   "cell_type": "code",
   "execution_count": 9,
   "id": "d761e2d8",
   "metadata": {},
   "outputs": [],
   "source": [
    "job_posting = job_posting.dropna()"
   ]
  },
  {
   "cell_type": "code",
   "execution_count": 10,
   "id": "8ac0715d",
   "metadata": {},
   "outputs": [
    {
     "data": {
      "text/plain": [
       "job_link               0\n",
       "last_processed_time    0\n",
       "got_summary            0\n",
       "got_ner                0\n",
       "is_being_worked        0\n",
       "job_title              0\n",
       "company                0\n",
       "job_location           0\n",
       "first_seen             0\n",
       "search_city            0\n",
       "search_country         0\n",
       "search_position        0\n",
       "job_level              0\n",
       "job_type               0\n",
       "job_skills             0\n",
       "dtype: int64"
      ]
     },
     "execution_count": 10,
     "metadata": {},
     "output_type": "execute_result"
    }
   ],
   "source": [
    "job_posting.isna().sum()"
   ]
  },
  {
   "cell_type": "code",
   "execution_count": 11,
   "id": "e633ddd2",
   "metadata": {},
   "outputs": [],
   "source": [
    "#lower case\n",
    "job_posting = job_posting.applymap(lambda s:s.lower() if type(s) == str else s)"
   ]
  },
  {
   "cell_type": "code",
   "execution_count": null,
   "id": "4f748a79",
   "metadata": {},
   "outputs": [],
   "source": [
    "job_posting = job_posting.replace({'&' : 'and'}, regex = True)"
   ]
  },
  {
   "cell_type": "code",
   "execution_count": 13,
   "id": "aaef3d07",
   "metadata": {},
   "outputs": [
    {
     "data": {
      "text/html": [
       "<div>\n",
       "<style scoped>\n",
       "    .dataframe tbody tr th:only-of-type {\n",
       "        vertical-align: middle;\n",
       "    }\n",
       "\n",
       "    .dataframe tbody tr th {\n",
       "        vertical-align: top;\n",
       "    }\n",
       "\n",
       "    .dataframe thead th {\n",
       "        text-align: right;\n",
       "    }\n",
       "</style>\n",
       "<table border=\"1\" class=\"dataframe\">\n",
       "  <thead>\n",
       "    <tr style=\"text-align: right;\">\n",
       "      <th></th>\n",
       "      <th>job_link</th>\n",
       "      <th>last_processed_time</th>\n",
       "      <th>got_summary</th>\n",
       "      <th>got_ner</th>\n",
       "      <th>is_being_worked</th>\n",
       "      <th>job_title</th>\n",
       "      <th>company</th>\n",
       "      <th>job_location</th>\n",
       "      <th>first_seen</th>\n",
       "      <th>search_city</th>\n",
       "      <th>search_country</th>\n",
       "      <th>search_position</th>\n",
       "      <th>job_level</th>\n",
       "      <th>job_type</th>\n",
       "      <th>job_skills</th>\n",
       "    </tr>\n",
       "  </thead>\n",
       "  <tbody>\n",
       "    <tr>\n",
       "      <th>0</th>\n",
       "      <td>https://www.linkedin.com/jobs/view/account-exe...</td>\n",
       "      <td>2024-01-21 07:12:29.00256+00</td>\n",
       "      <td>t</td>\n",
       "      <td>t</td>\n",
       "      <td>f</td>\n",
       "      <td>account executive - dispensing (norcal/norther...</td>\n",
       "      <td>bd</td>\n",
       "      <td>san diego, ca</td>\n",
       "      <td>2024-01-15</td>\n",
       "      <td>coronado</td>\n",
       "      <td>united states</td>\n",
       "      <td>color maker</td>\n",
       "      <td>mid senior</td>\n",
       "      <td>onsite</td>\n",
       "      <td>medical equipment sales, key competitors, term...</td>\n",
       "    </tr>\n",
       "    <tr>\n",
       "      <th>1</th>\n",
       "      <td>https://www.linkedin.com/jobs/view/registered-...</td>\n",
       "      <td>2024-01-21 07:39:58.88137+00</td>\n",
       "      <td>t</td>\n",
       "      <td>t</td>\n",
       "      <td>f</td>\n",
       "      <td>registered nurse - rn care manager</td>\n",
       "      <td>trinity health mi</td>\n",
       "      <td>norton shores, mi</td>\n",
       "      <td>2024-01-14</td>\n",
       "      <td>grand haven</td>\n",
       "      <td>united states</td>\n",
       "      <td>director nursing service</td>\n",
       "      <td>mid senior</td>\n",
       "      <td>onsite</td>\n",
       "      <td>nursing, bachelor of science in nursing, maste...</td>\n",
       "    </tr>\n",
       "  </tbody>\n",
       "</table>\n",
       "</div>"
      ],
      "text/plain": [
       "                                            job_link  \\\n",
       "0  https://www.linkedin.com/jobs/view/account-exe...   \n",
       "1  https://www.linkedin.com/jobs/view/registered-...   \n",
       "\n",
       "            last_processed_time got_summary got_ner is_being_worked  \\\n",
       "0  2024-01-21 07:12:29.00256+00           t       t               f   \n",
       "1  2024-01-21 07:39:58.88137+00           t       t               f   \n",
       "\n",
       "                                           job_title            company  \\\n",
       "0  account executive - dispensing (norcal/norther...                 bd   \n",
       "1                 registered nurse - rn care manager  trinity health mi   \n",
       "\n",
       "        job_location  first_seen  search_city search_country  \\\n",
       "0      san diego, ca  2024-01-15     coronado  united states   \n",
       "1  norton shores, mi  2024-01-14  grand haven  united states   \n",
       "\n",
       "            search_position   job_level job_type  \\\n",
       "0               color maker  mid senior   onsite   \n",
       "1  director nursing service  mid senior   onsite   \n",
       "\n",
       "                                          job_skills  \n",
       "0  medical equipment sales, key competitors, term...  \n",
       "1  nursing, bachelor of science in nursing, maste...  "
      ]
     },
     "execution_count": 13,
     "metadata": {},
     "output_type": "execute_result"
    }
   ],
   "source": [
    "job_posting.head(2)"
   ]
  },
  {
   "cell_type": "code",
   "execution_count": 14,
   "id": "f2d8f53f",
   "metadata": {},
   "outputs": [],
   "source": [
    "def iterate_skills(row):\n",
    "    skills = row['job_skills'].split(',')\n",
    "    skills = [skills for skills in skills if len(skills) >= 3]\n",
    "    return skills"
   ]
  },
  {
   "cell_type": "code",
   "execution_count": 15,
   "id": "cd3acc30",
   "metadata": {},
   "outputs": [],
   "source": [
    "job_posting['skills'] = job_posting.apply(iterate_skills,axis= 1)"
   ]
  },
  {
   "cell_type": "code",
   "execution_count": 16,
   "id": "49c73885",
   "metadata": {},
   "outputs": [],
   "source": [
    "job_posting['skills_count'] = job_posting['skills'].apply(len)"
   ]
  },
  {
   "cell_type": "code",
   "execution_count": 17,
   "id": "d801c851",
   "metadata": {},
   "outputs": [
    {
     "data": {
      "text/html": [
       "<div>\n",
       "<style scoped>\n",
       "    .dataframe tbody tr th:only-of-type {\n",
       "        vertical-align: middle;\n",
       "    }\n",
       "\n",
       "    .dataframe tbody tr th {\n",
       "        vertical-align: top;\n",
       "    }\n",
       "\n",
       "    .dataframe thead th {\n",
       "        text-align: right;\n",
       "    }\n",
       "</style>\n",
       "<table border=\"1\" class=\"dataframe\">\n",
       "  <thead>\n",
       "    <tr style=\"text-align: right;\">\n",
       "      <th></th>\n",
       "      <th>job_link</th>\n",
       "      <th>last_processed_time</th>\n",
       "      <th>got_summary</th>\n",
       "      <th>got_ner</th>\n",
       "      <th>is_being_worked</th>\n",
       "      <th>job_title</th>\n",
       "      <th>company</th>\n",
       "      <th>job_location</th>\n",
       "      <th>first_seen</th>\n",
       "      <th>search_city</th>\n",
       "      <th>search_country</th>\n",
       "      <th>search_position</th>\n",
       "      <th>job_level</th>\n",
       "      <th>job_type</th>\n",
       "      <th>job_skills</th>\n",
       "      <th>skills</th>\n",
       "      <th>skills_count</th>\n",
       "    </tr>\n",
       "  </thead>\n",
       "  <tbody>\n",
       "    <tr>\n",
       "      <th>0</th>\n",
       "      <td>https://www.linkedin.com/jobs/view/account-exe...</td>\n",
       "      <td>2024-01-21 07:12:29.00256+00</td>\n",
       "      <td>t</td>\n",
       "      <td>t</td>\n",
       "      <td>f</td>\n",
       "      <td>account executive - dispensing (norcal/norther...</td>\n",
       "      <td>bd</td>\n",
       "      <td>san diego, ca</td>\n",
       "      <td>2024-01-15</td>\n",
       "      <td>coronado</td>\n",
       "      <td>united states</td>\n",
       "      <td>color maker</td>\n",
       "      <td>mid senior</td>\n",
       "      <td>onsite</td>\n",
       "      <td>medical equipment sales, key competitors, term...</td>\n",
       "      <td>[medical equipment sales,  key competitors,  t...</td>\n",
       "      <td>26</td>\n",
       "    </tr>\n",
       "    <tr>\n",
       "      <th>1</th>\n",
       "      <td>https://www.linkedin.com/jobs/view/registered-...</td>\n",
       "      <td>2024-01-21 07:39:58.88137+00</td>\n",
       "      <td>t</td>\n",
       "      <td>t</td>\n",
       "      <td>f</td>\n",
       "      <td>registered nurse - rn care manager</td>\n",
       "      <td>trinity health mi</td>\n",
       "      <td>norton shores, mi</td>\n",
       "      <td>2024-01-14</td>\n",
       "      <td>grand haven</td>\n",
       "      <td>united states</td>\n",
       "      <td>director nursing service</td>\n",
       "      <td>mid senior</td>\n",
       "      <td>onsite</td>\n",
       "      <td>nursing, bachelor of science in nursing, maste...</td>\n",
       "      <td>[nursing,  bachelor of science in nursing,  ma...</td>\n",
       "      <td>17</td>\n",
       "    </tr>\n",
       "  </tbody>\n",
       "</table>\n",
       "</div>"
      ],
      "text/plain": [
       "                                            job_link  \\\n",
       "0  https://www.linkedin.com/jobs/view/account-exe...   \n",
       "1  https://www.linkedin.com/jobs/view/registered-...   \n",
       "\n",
       "            last_processed_time got_summary got_ner is_being_worked  \\\n",
       "0  2024-01-21 07:12:29.00256+00           t       t               f   \n",
       "1  2024-01-21 07:39:58.88137+00           t       t               f   \n",
       "\n",
       "                                           job_title            company  \\\n",
       "0  account executive - dispensing (norcal/norther...                 bd   \n",
       "1                 registered nurse - rn care manager  trinity health mi   \n",
       "\n",
       "        job_location  first_seen  search_city search_country  \\\n",
       "0      san diego, ca  2024-01-15     coronado  united states   \n",
       "1  norton shores, mi  2024-01-14  grand haven  united states   \n",
       "\n",
       "            search_position   job_level job_type  \\\n",
       "0               color maker  mid senior   onsite   \n",
       "1  director nursing service  mid senior   onsite   \n",
       "\n",
       "                                          job_skills  \\\n",
       "0  medical equipment sales, key competitors, term...   \n",
       "1  nursing, bachelor of science in nursing, maste...   \n",
       "\n",
       "                                              skills  skills_count  \n",
       "0  [medical equipment sales,  key competitors,  t...            26  \n",
       "1  [nursing,  bachelor of science in nursing,  ma...            17  "
      ]
     },
     "execution_count": 17,
     "metadata": {},
     "output_type": "execute_result"
    }
   ],
   "source": [
    "job_posting.head(2)"
   ]
  },
  {
   "cell_type": "code",
   "execution_count": 18,
   "id": "1995266a",
   "metadata": {},
   "outputs": [],
   "source": [
    "job_posting.drop(['job_skills'], inplace= True, axis=1)"
   ]
  },
  {
   "cell_type": "code",
   "execution_count": 19,
   "id": "f5082a61",
   "metadata": {},
   "outputs": [],
   "source": [
    "job_posting = job_posting.rename(columns={'skills':'job_skills'})"
   ]
  },
  {
   "cell_type": "code",
   "execution_count": 20,
   "id": "b62abcd9",
   "metadata": {},
   "outputs": [
    {
     "data": {
      "text/html": [
       "<div>\n",
       "<style scoped>\n",
       "    .dataframe tbody tr th:only-of-type {\n",
       "        vertical-align: middle;\n",
       "    }\n",
       "\n",
       "    .dataframe tbody tr th {\n",
       "        vertical-align: top;\n",
       "    }\n",
       "\n",
       "    .dataframe thead th {\n",
       "        text-align: right;\n",
       "    }\n",
       "</style>\n",
       "<table border=\"1\" class=\"dataframe\">\n",
       "  <thead>\n",
       "    <tr style=\"text-align: right;\">\n",
       "      <th></th>\n",
       "      <th>job_link</th>\n",
       "      <th>last_processed_time</th>\n",
       "      <th>got_summary</th>\n",
       "      <th>got_ner</th>\n",
       "      <th>is_being_worked</th>\n",
       "      <th>job_title</th>\n",
       "      <th>company</th>\n",
       "      <th>job_location</th>\n",
       "      <th>first_seen</th>\n",
       "      <th>search_city</th>\n",
       "      <th>search_country</th>\n",
       "      <th>search_position</th>\n",
       "      <th>job_level</th>\n",
       "      <th>job_type</th>\n",
       "      <th>job_skills</th>\n",
       "      <th>skills_count</th>\n",
       "    </tr>\n",
       "  </thead>\n",
       "  <tbody>\n",
       "    <tr>\n",
       "      <th>0</th>\n",
       "      <td>https://www.linkedin.com/jobs/view/account-exe...</td>\n",
       "      <td>2024-01-21 07:12:29.00256+00</td>\n",
       "      <td>t</td>\n",
       "      <td>t</td>\n",
       "      <td>f</td>\n",
       "      <td>account executive - dispensing (norcal/norther...</td>\n",
       "      <td>bd</td>\n",
       "      <td>san diego, ca</td>\n",
       "      <td>2024-01-15</td>\n",
       "      <td>coronado</td>\n",
       "      <td>united states</td>\n",
       "      <td>color maker</td>\n",
       "      <td>mid senior</td>\n",
       "      <td>onsite</td>\n",
       "      <td>[medical equipment sales,  key competitors,  t...</td>\n",
       "      <td>26</td>\n",
       "    </tr>\n",
       "    <tr>\n",
       "      <th>1</th>\n",
       "      <td>https://www.linkedin.com/jobs/view/registered-...</td>\n",
       "      <td>2024-01-21 07:39:58.88137+00</td>\n",
       "      <td>t</td>\n",
       "      <td>t</td>\n",
       "      <td>f</td>\n",
       "      <td>registered nurse - rn care manager</td>\n",
       "      <td>trinity health mi</td>\n",
       "      <td>norton shores, mi</td>\n",
       "      <td>2024-01-14</td>\n",
       "      <td>grand haven</td>\n",
       "      <td>united states</td>\n",
       "      <td>director nursing service</td>\n",
       "      <td>mid senior</td>\n",
       "      <td>onsite</td>\n",
       "      <td>[nursing,  bachelor of science in nursing,  ma...</td>\n",
       "      <td>17</td>\n",
       "    </tr>\n",
       "  </tbody>\n",
       "</table>\n",
       "</div>"
      ],
      "text/plain": [
       "                                            job_link  \\\n",
       "0  https://www.linkedin.com/jobs/view/account-exe...   \n",
       "1  https://www.linkedin.com/jobs/view/registered-...   \n",
       "\n",
       "            last_processed_time got_summary got_ner is_being_worked  \\\n",
       "0  2024-01-21 07:12:29.00256+00           t       t               f   \n",
       "1  2024-01-21 07:39:58.88137+00           t       t               f   \n",
       "\n",
       "                                           job_title            company  \\\n",
       "0  account executive - dispensing (norcal/norther...                 bd   \n",
       "1                 registered nurse - rn care manager  trinity health mi   \n",
       "\n",
       "        job_location  first_seen  search_city search_country  \\\n",
       "0      san diego, ca  2024-01-15     coronado  united states   \n",
       "1  norton shores, mi  2024-01-14  grand haven  united states   \n",
       "\n",
       "            search_position   job_level job_type  \\\n",
       "0               color maker  mid senior   onsite   \n",
       "1  director nursing service  mid senior   onsite   \n",
       "\n",
       "                                          job_skills  skills_count  \n",
       "0  [medical equipment sales,  key competitors,  t...            26  \n",
       "1  [nursing,  bachelor of science in nursing,  ma...            17  "
      ]
     },
     "execution_count": 20,
     "metadata": {},
     "output_type": "execute_result"
    }
   ],
   "source": [
    "job_posting.head(2)"
   ]
  },
  {
   "cell_type": "code",
   "execution_count": 21,
   "id": "e59b5d1e",
   "metadata": {},
   "outputs": [],
   "source": [
    "job_posting['search_country'] = job_posting['search_country'].astype('category')"
   ]
  },
  {
   "cell_type": "code",
   "execution_count": 22,
   "id": "04042c93",
   "metadata": {},
   "outputs": [
    {
     "data": {
      "text/plain": [
       "Index(['australia', 'canada', 'united kingdom', 'united states'], dtype='object')"
      ]
     },
     "execution_count": 22,
     "metadata": {},
     "output_type": "execute_result"
    }
   ],
   "source": [
    "job_posting['search_country'].cat.categories"
   ]
  },
  {
   "cell_type": "code",
   "execution_count": 23,
   "id": "345edd1e",
   "metadata": {},
   "outputs": [],
   "source": [
    "aus_jobs = job_posting[job_posting['search_country'] == 'australia']\n",
    "job_counts = aus_jobs['job_title'].value_counts()\n",
    "top_10_aus_job = job_counts.head(10)"
   ]
  },
  {
   "cell_type": "code",
   "execution_count": 24,
   "id": "0ec4e6d8",
   "metadata": {},
   "outputs": [],
   "source": [
    "import numpy as np\n",
    "import matplotlib.pyplot as plt\n",
    "import seaborn as sns"
   ]
  },
  {
   "cell_type": "code",
   "execution_count": 25,
   "id": "0164ebf3",
   "metadata": {},
   "outputs": [
    {
     "data": {
      "image/png": "[encoded data removed]",
      "text/plain": [
       "<Figure size 1000x600 with 1 Axes>"
      ]
     },
     "metadata": {},
     "output_type": "display_data"
    }
   ],
   "source": [
    "top_10_aus_job.plot(kind = 'barh', figsize = (10,6), color = 'blue')\n",
    "plt.xlabel('Number of Job Postings')\n",
    "plt.ylabel('Job Title')\n",
    "plt.title('Top 10 Most Demanded Job Titles in the Australia')\n",
    "plt.gca().invert_yaxis() \n",
    "plt.show()"
   ]
  },
  {
   "cell_type": "code",
   "execution_count": 26,
   "id": "786cc56d",
   "metadata": {},
   "outputs": [
    {
     "data": {
      "image/png": "[encoded data removed]",
      "text/plain": [
       "<Figure size 1000x600 with 1 Axes>"
      ]
     },
     "metadata": {},
     "output_type": "display_data"
    }
   ],
   "source": [
    "US_jobs = job_posting[job_posting['search_country'] == 'united states']\n",
    "job_counts = US_jobs['job_title'].value_counts()\n",
    "top_10_US_job = job_counts.head(10)\n",
    "\n",
    "top_10_US_job.plot(kind = 'barh', figsize = (10,6), color = 'green')\n",
    "plt.xlabel('Number of Job Postings')\n",
    "plt.ylabel('Job Title')\n",
    "plt.title('Top 10 Most Demanded Job Titles in the United States')\n",
    "plt.gca().invert_yaxis() \n",
    "plt.show()"
   ]
  },
  {
   "cell_type": "code",
   "execution_count": 27,
   "id": "b8ea93a6",
   "metadata": {},
   "outputs": [
    {
     "data": {
      "image/png": "[encoded data removed]",
      "text/plain": [
       "<Figure size 1000x600 with 1 Axes>"
      ]
     },
     "metadata": {},
     "output_type": "display_data"
    }
   ],
   "source": [
    "Canada_jobs = job_posting[job_posting['search_country'] == 'canada']\n",
    "job_counts = Canada_jobs['job_title'].value_counts()\n",
    "top_10_Canada_job = job_counts.head(10)\n",
    "\n",
    "top_10_Canada_job.plot(kind = 'barh', figsize = (10,6), color = 'red')\n",
    "plt.xlabel('Number of Job Postings')\n",
    "plt.ylabel('Job Title')\n",
    "plt.title('Top 10 Most Demanded Job Titles in the United States')\n",
    "plt.gca().invert_yaxis() \n",
    "plt.show()"
   ]
  },
  {
   "cell_type": "code",
   "execution_count": 28,
   "id": "c4ae6d7e",
   "metadata": {},
   "outputs": [
    {
     "data": {
      "image/png": "[encoded data removed]",
      "text/plain": [
       "<Figure size 1000x600 with 1 Axes>"
      ]
     },
     "metadata": {},
     "output_type": "display_data"
    }
   ],
   "source": [
    "UK_jobs = job_posting[job_posting['search_country'] == 'united kingdom']\n",
    "job_counts = UK_jobs['job_title'].value_counts()\n",
    "top_10_UK_job = job_counts.head(10)\n",
    "\n",
    "top_10_UK_job.plot(kind = 'barh', figsize = (10,6), color = 'purple')\n",
    "plt.xlabel('Number of Job Postings')\n",
    "plt.ylabel('Job Title')\n",
    "plt.title('Top 10 Most Demanded Job Titles in the United States')\n",
    "plt.gca().invert_yaxis() \n"
   ]
  },
  {
   "cell_type": "code",
   "execution_count": 29,
   "id": "0ca9a71d",
   "metadata": {},
   "outputs": [
    {
     "data": {
      "text/html": [
       "<div>\n",
       "<style scoped>\n",
       "    .dataframe tbody tr th:only-of-type {\n",
       "        vertical-align: middle;\n",
       "    }\n",
       "\n",
       "    .dataframe tbody tr th {\n",
       "        vertical-align: top;\n",
       "    }\n",
       "\n",
       "    .dataframe thead th {\n",
       "        text-align: right;\n",
       "    }\n",
       "</style>\n",
       "<table border=\"1\" class=\"dataframe\">\n",
       "  <thead>\n",
       "    <tr style=\"text-align: right;\">\n",
       "      <th></th>\n",
       "      <th>job_link</th>\n",
       "      <th>last_processed_time</th>\n",
       "      <th>got_summary</th>\n",
       "      <th>got_ner</th>\n",
       "      <th>is_being_worked</th>\n",
       "      <th>job_title</th>\n",
       "      <th>company</th>\n",
       "      <th>job_location</th>\n",
       "      <th>first_seen</th>\n",
       "      <th>search_city</th>\n",
       "      <th>search_country</th>\n",
       "      <th>search_position</th>\n",
       "      <th>job_level</th>\n",
       "      <th>job_type</th>\n",
       "      <th>job_skills</th>\n",
       "      <th>skills_count</th>\n",
       "    </tr>\n",
       "  </thead>\n",
       "  <tbody>\n",
       "    <tr>\n",
       "      <th>0</th>\n",
       "      <td>https://www.linkedin.com/jobs/view/account-exe...</td>\n",
       "      <td>2024-01-21 07:12:29.00256+00</td>\n",
       "      <td>t</td>\n",
       "      <td>t</td>\n",
       "      <td>f</td>\n",
       "      <td>account executive - dispensing (norcal/norther...</td>\n",
       "      <td>bd</td>\n",
       "      <td>san diego, ca</td>\n",
       "      <td>2024-01-15</td>\n",
       "      <td>coronado</td>\n",
       "      <td>united states</td>\n",
       "      <td>color maker</td>\n",
       "      <td>mid senior</td>\n",
       "      <td>onsite</td>\n",
       "      <td>[medical equipment sales,  key competitors,  t...</td>\n",
       "      <td>26</td>\n",
       "    </tr>\n",
       "  </tbody>\n",
       "</table>\n",
       "</div>"
      ],
      "text/plain": [
       "                                            job_link  \\\n",
       "0  https://www.linkedin.com/jobs/view/account-exe...   \n",
       "\n",
       "            last_processed_time got_summary got_ner is_being_worked  \\\n",
       "0  2024-01-21 07:12:29.00256+00           t       t               f   \n",
       "\n",
       "                                           job_title company   job_location  \\\n",
       "0  account executive - dispensing (norcal/norther...      bd  san diego, ca   \n",
       "\n",
       "   first_seen search_city search_country search_position   job_level job_type  \\\n",
       "0  2024-01-15    coronado  united states     color maker  mid senior   onsite   \n",
       "\n",
       "                                          job_skills  skills_count  \n",
       "0  [medical equipment sales,  key competitors,  t...            26  "
      ]
     },
     "execution_count": 29,
     "metadata": {},
     "output_type": "execute_result"
    }
   ],
   "source": [
    "job_posting.head(1)"
   ]
  },
  {
   "cell_type": "code",
   "execution_count": 30,
   "id": "f72ea6dd",
   "metadata": {},
   "outputs": [],
   "source": [
    "job_posting['first_seen'] = pd.to_datetime(job_posting['first_seen'])"
   ]
  },
  {
   "cell_type": "code",
   "execution_count": 31,
   "id": "248c4753",
   "metadata": {},
   "outputs": [],
   "source": [
    "job_posting['first_seen_date'] = job_posting['first_seen'].dt.date"
   ]
  },
  {
   "cell_type": "code",
   "execution_count": 32,
   "id": "97a8efb5",
   "metadata": {},
   "outputs": [],
   "source": [
    "job_posting['process_duration'] = (pd.to_datetime(job_posting['last_processed_time']).dt.date - job_posting['first_seen_date']).dt.days"
   ]
  },
  {
   "cell_type": "code",
   "execution_count": 33,
   "id": "a6e71cb3",
   "metadata": {},
   "outputs": [
    {
     "data": {
      "text/plain": [
       "<function matplotlib.pyplot.show(close=None, block=None)>"
      ]
     },
     "execution_count": 33,
     "metadata": {},
     "output_type": "execute_result"
    },
    {
     "data": {
      "image/png": "[encoded data removed]",
      "text/plain": [
       "<Figure size 640x480 with 1 Axes>"
      ]
     },
     "metadata": {},
     "output_type": "display_data"
    }
   ],
   "source": [
    "sns.set(style=\"whitegrid\")\n",
    "\n",
    "job_posting['first_seen'].value_counts().sort_index().plot(kind='line', linewidth=2.5)\n",
    "plt.title('Job posting trend over time')\n",
    "plt.xlabel('date')\n",
    "plt.ylabel('number of jobs')\n",
    "plt.show"
   ]
  },
  {
   "cell_type": "code",
   "execution_count": 34,
   "id": "57257e24",
   "metadata": {},
   "outputs": [
    {
     "data": {
      "image/png": "[encoded data removed]",
      "text/plain": [
       "<Figure size 1000x600 with 1 Axes>"
      ]
     },
     "metadata": {},
     "output_type": "display_data"
    }
   ],
   "source": [
    "plt.figure(figsize=(10, 6))\n",
    "\n",
    "sns.histplot(data = job_posting, x = 'process_duration', binwidth=0.3)\n",
    "plt.xlabel(\"processing time\")\n",
    "plt.title(\"Process time distribution\")\n",
    "\n",
    "plt.show()"
   ]
  },
  {
   "cell_type": "code",
   "execution_count": 35,
   "id": "8de2b2bb",
   "metadata": {},
   "outputs": [
    {
     "data": {
      "text/plain": [
       "mid senior    1153408\n",
       "associate      140910\n",
       "Name: job_level, dtype: int64"
      ]
     },
     "execution_count": 35,
     "metadata": {},
     "output_type": "execute_result"
    }
   ],
   "source": [
    "job_posting['job_level'].value_counts()"
   ]
  },
  {
   "cell_type": "code",
   "execution_count": 36,
   "id": "73136a70",
   "metadata": {},
   "outputs": [
    {
     "data": {
      "image/png": "[encoded data removed]",
      "text/plain": [
       "<Figure size 800x600 with 1 Axes>"
      ]
     },
     "metadata": {},
     "output_type": "display_data"
    }
   ],
   "source": [
    "\n",
    "plt.figure(figsize=(8, 6))  # Optional: specify the size of the figure\n",
    "plt.pie(job_posting['job_level'].value_counts(), labels=job_posting['job_level'].value_counts().index, autopct='%1.1f%%', startangle=140)\n",
    "plt.title('Distribution of Job Levels')\n",
    "plt.show()\n"
   ]
  },
  {
   "cell_type": "code",
   "execution_count": 37,
   "id": "78ff3e14",
   "metadata": {},
   "outputs": [
    {
     "data": {
      "image/png": "[encoded data removed]",
      "text/plain": [
       "<Figure size 800x600 with 1 Axes>"
      ]
     },
     "metadata": {},
     "output_type": "display_data"
    }
   ],
   "source": [
    "\n",
    "plt.figure(figsize=(8, 6))\n",
    "plt.pie(job_posting['job_type'].value_counts(), labels=job_posting['job_type'].value_counts().index, startangle=140)\n",
    "plt.title('Distribution of Job Levels')\n",
    "\n",
    "\n",
    "plt.legend(job_posting['job_type'].value_counts(), title='Job Type', loc='best', bbox_to_anchor=(1, 0.5))\n",
    "plt.show()\n"
   ]
  },
  {
   "cell_type": "code",
   "execution_count": null,
   "id": "2746d16a",
   "metadata": {},
   "outputs": [],
   "source": []
  },
  {
   "cell_type": "code",
   "execution_count": 38,
   "id": "10f1a11c",
   "metadata": {},
   "outputs": [
    {
     "data": {
      "text/html": [
       "<div>\n",
       "<style scoped>\n",
       "    .dataframe tbody tr th:only-of-type {\n",
       "        vertical-align: middle;\n",
       "    }\n",
       "\n",
       "    .dataframe tbody tr th {\n",
       "        vertical-align: top;\n",
       "    }\n",
       "\n",
       "    .dataframe thead th {\n",
       "        text-align: right;\n",
       "    }\n",
       "</style>\n",
       "<table border=\"1\" class=\"dataframe\">\n",
       "  <thead>\n",
       "    <tr style=\"text-align: right;\">\n",
       "      <th></th>\n",
       "      <th>job_link</th>\n",
       "      <th>last_processed_time</th>\n",
       "      <th>got_summary</th>\n",
       "      <th>got_ner</th>\n",
       "      <th>is_being_worked</th>\n",
       "      <th>job_title</th>\n",
       "      <th>company</th>\n",
       "      <th>job_location</th>\n",
       "      <th>first_seen</th>\n",
       "      <th>search_city</th>\n",
       "      <th>search_country</th>\n",
       "      <th>search_position</th>\n",
       "      <th>job_level</th>\n",
       "      <th>job_type</th>\n",
       "      <th>job_skills</th>\n",
       "      <th>skills_count</th>\n",
       "      <th>first_seen_date</th>\n",
       "      <th>process_duration</th>\n",
       "    </tr>\n",
       "  </thead>\n",
       "  <tbody>\n",
       "    <tr>\n",
       "      <th>0</th>\n",
       "      <td>https://www.linkedin.com/jobs/view/account-exe...</td>\n",
       "      <td>2024-01-21 07:12:29.00256+00</td>\n",
       "      <td>t</td>\n",
       "      <td>t</td>\n",
       "      <td>f</td>\n",
       "      <td>account executive - dispensing (norcal/norther...</td>\n",
       "      <td>bd</td>\n",
       "      <td>san diego, ca</td>\n",
       "      <td>2024-01-15</td>\n",
       "      <td>coronado</td>\n",
       "      <td>united states</td>\n",
       "      <td>color maker</td>\n",
       "      <td>mid senior</td>\n",
       "      <td>onsite</td>\n",
       "      <td>[medical equipment sales,  key competitors,  t...</td>\n",
       "      <td>26</td>\n",
       "      <td>2024-01-15</td>\n",
       "      <td>6</td>\n",
       "    </tr>\n",
       "  </tbody>\n",
       "</table>\n",
       "</div>"
      ],
      "text/plain": [
       "                                            job_link  \\\n",
       "0  https://www.linkedin.com/jobs/view/account-exe...   \n",
       "\n",
       "            last_processed_time got_summary got_ner is_being_worked  \\\n",
       "0  2024-01-21 07:12:29.00256+00           t       t               f   \n",
       "\n",
       "                                           job_title company   job_location  \\\n",
       "0  account executive - dispensing (norcal/norther...      bd  san diego, ca   \n",
       "\n",
       "  first_seen search_city search_country search_position   job_level job_type  \\\n",
       "0 2024-01-15    coronado  united states     color maker  mid senior   onsite   \n",
       "\n",
       "                                          job_skills  skills_count  \\\n",
       "0  [medical equipment sales,  key competitors,  t...            26   \n",
       "\n",
       "  first_seen_date  process_duration  \n",
       "0      2024-01-15                 6  "
      ]
     },
     "execution_count": 38,
     "metadata": {},
     "output_type": "execute_result"
    }
   ],
   "source": [
    "job_posting.head(1)"
   ]
  },
  {
   "cell_type": "code",
   "execution_count": 39,
   "id": "9205ec31",
   "metadata": {},
   "outputs": [],
   "source": [
    "from collections import Counter"
   ]
  },
  {
   "cell_type": "code",
   "execution_count": 40,
   "id": "60986fce",
   "metadata": {},
   "outputs": [],
   "source": [
    "group_skils = job_posting.groupby('job_title')['job_skills'].sum()"
   ]
  },
  {
   "cell_type": "code",
   "execution_count": 41,
   "id": "65a8740b",
   "metadata": {},
   "outputs": [],
   "source": [
    "common_skills = group_skils.apply(lambda x : Counter(x).most_common(1))"
   ]
  },
  {
   "cell_type": "code",
   "execution_count": 42,
   "id": "9e02b96f",
   "metadata": {},
   "outputs": [],
   "source": [
    "data = []"
   ]
  },
  {
   "cell_type": "code",
   "execution_count": 43,
   "id": "8ac41bec",
   "metadata": {},
   "outputs": [],
   "source": [
    "for position, skills in common_skills.items():\n",
    "    if skills:\n",
    "        data.append([position, skills[0][0], skills[0][1]])\n",
    "        \n",
    "most_common_skills = pd.DataFrame(data, columns=['job_title', 'Most Common Skill', 'Occurrences'])"
   ]
  },
  {
   "cell_type": "code",
   "execution_count": 54,
   "id": "496be295",
   "metadata": {},
   "outputs": [
    {
     "data": {
      "text/html": [
       "<div>\n",
       "<style scoped>\n",
       "    .dataframe tbody tr th:only-of-type {\n",
       "        vertical-align: middle;\n",
       "    }\n",
       "\n",
       "    .dataframe tbody tr th {\n",
       "        vertical-align: top;\n",
       "    }\n",
       "\n",
       "    .dataframe thead th {\n",
       "        text-align: right;\n",
       "    }\n",
       "</style>\n",
       "<table border=\"1\" class=\"dataframe\">\n",
       "  <thead>\n",
       "    <tr style=\"text-align: right;\">\n",
       "      <th></th>\n",
       "      <th>job_title</th>\n",
       "      <th>Most Common Skill</th>\n",
       "      <th>Occurrences</th>\n",
       "    </tr>\n",
       "  </thead>\n",
       "  <tbody>\n",
       "    <tr>\n",
       "      <th>116170</th>\n",
       "      <td>customer service representative</td>\n",
       "      <td>customer service</td>\n",
       "      <td>8306</td>\n",
       "    </tr>\n",
       "    <tr>\n",
       "      <th>229090</th>\n",
       "      <td>lead sales associate-ft</td>\n",
       "      <td>supervisory experience</td>\n",
       "      <td>6604</td>\n",
       "    </tr>\n",
       "    <tr>\n",
       "      <th>163226</th>\n",
       "      <td>first year tax professional</td>\n",
       "      <td>teamwork</td>\n",
       "      <td>4546</td>\n",
       "    </tr>\n",
       "    <tr>\n",
       "      <th>229091</th>\n",
       "      <td>lead sales associate-pt</td>\n",
       "      <td>customer service</td>\n",
       "      <td>4525</td>\n",
       "    </tr>\n",
       "    <tr>\n",
       "      <th>197225</th>\n",
       "      <td>hourly supervisor and training</td>\n",
       "      <td>inventory management</td>\n",
       "      <td>4460</td>\n",
       "    </tr>\n",
       "  </tbody>\n",
       "</table>\n",
       "</div>"
      ],
      "text/plain": [
       "                              job_title        Most Common Skill  Occurrences\n",
       "116170  customer service representative         customer service         8306\n",
       "229090          lead sales associate-ft   supervisory experience         6604\n",
       "163226      first year tax professional                 teamwork         4546\n",
       "229091          lead sales associate-pt         customer service         4525\n",
       "197225   hourly supervisor and training     inventory management         4460"
      ]
     },
     "execution_count": 54,
     "metadata": {},
     "output_type": "execute_result"
    }
   ],
   "source": [
    "#occurence of skills in each job title\n",
    "most_common_skills.sort_values(by = 'Occurrences', ascending= False).head(5)"
   ]
  },
  {
   "cell_type": "code",
   "execution_count": 55,
   "id": "5df3c6f2",
   "metadata": {},
   "outputs": [],
   "source": [
    "job_skills = job_skills.dropna()"
   ]
  },
  {
   "cell_type": "code",
   "execution_count": 46,
   "id": "e8ad5a8c",
   "metadata": {},
   "outputs": [
    {
     "data": {
      "text/html": [
       "<div>\n",
       "<style scoped>\n",
       "    .dataframe tbody tr th:only-of-type {\n",
       "        vertical-align: middle;\n",
       "    }\n",
       "\n",
       "    .dataframe tbody tr th {\n",
       "        vertical-align: top;\n",
       "    }\n",
       "\n",
       "    .dataframe thead th {\n",
       "        text-align: right;\n",
       "    }\n",
       "</style>\n",
       "<table border=\"1\" class=\"dataframe\">\n",
       "  <thead>\n",
       "    <tr style=\"text-align: right;\">\n",
       "      <th></th>\n",
       "      <th>job_link</th>\n",
       "      <th>job_skills</th>\n",
       "    </tr>\n",
       "  </thead>\n",
       "  <tbody>\n",
       "    <tr>\n",
       "      <th>0</th>\n",
       "      <td>https://www.linkedin.com/jobs/view/housekeeper...</td>\n",
       "      <td>Building Custodial Services, Cleaning, Janitor...</td>\n",
       "    </tr>\n",
       "    <tr>\n",
       "      <th>1</th>\n",
       "      <td>https://www.linkedin.com/jobs/view/assistant-g...</td>\n",
       "      <td>Customer service, Restaurant management, Food ...</td>\n",
       "    </tr>\n",
       "    <tr>\n",
       "      <th>2</th>\n",
       "      <td>https://www.linkedin.com/jobs/view/school-base...</td>\n",
       "      <td>Applied Behavior Analysis (ABA), Data analysis...</td>\n",
       "    </tr>\n",
       "    <tr>\n",
       "      <th>3</th>\n",
       "      <td>https://www.linkedin.com/jobs/view/electrical-...</td>\n",
       "      <td>Electrical Engineering, Project Controls, Sche...</td>\n",
       "    </tr>\n",
       "    <tr>\n",
       "      <th>4</th>\n",
       "      <td>https://www.linkedin.com/jobs/view/electrical-...</td>\n",
       "      <td>Electrical Assembly, Point to point wiring, St...</td>\n",
       "    </tr>\n",
       "    <tr>\n",
       "      <th>...</th>\n",
       "      <td>...</td>\n",
       "      <td>...</td>\n",
       "    </tr>\n",
       "    <tr>\n",
       "      <th>1296376</th>\n",
       "      <td>https://www.linkedin.com/jobs/view/community-a...</td>\n",
       "      <td>Communication Skills, Time Management, Custome...</td>\n",
       "    </tr>\n",
       "    <tr>\n",
       "      <th>1296377</th>\n",
       "      <td>https://www.linkedin.com/jobs/view/sr-it-analy...</td>\n",
       "      <td>Windows SQL, EDI X12, Edifecs Platform, Health...</td>\n",
       "    </tr>\n",
       "    <tr>\n",
       "      <th>1296378</th>\n",
       "      <td>https://www.linkedin.com/jobs/view/operations-...</td>\n",
       "      <td>Adaptability, Communication, Digital Fluency, ...</td>\n",
       "    </tr>\n",
       "    <tr>\n",
       "      <th>1296379</th>\n",
       "      <td>https://www.linkedin.com/jobs/view/float-patie...</td>\n",
       "      <td>CNA, EMT, BLS, Medical Assistant, CPCT, LPN, R...</td>\n",
       "    </tr>\n",
       "    <tr>\n",
       "      <th>1296380</th>\n",
       "      <td>https://www.linkedin.com/jobs/view/conductor-e...</td>\n",
       "      <td>Customer Service, Driving, Loading, Unloading,...</td>\n",
       "    </tr>\n",
       "  </tbody>\n",
       "</table>\n",
       "<p>1294346 rows × 2 columns</p>\n",
       "</div>"
      ],
      "text/plain": [
       "                                                  job_link  \\\n",
       "0        https://www.linkedin.com/jobs/view/housekeeper...   \n",
       "1        https://www.linkedin.com/jobs/view/assistant-g...   \n",
       "2        https://www.linkedin.com/jobs/view/school-base...   \n",
       "3        https://www.linkedin.com/jobs/view/electrical-...   \n",
       "4        https://www.linkedin.com/jobs/view/electrical-...   \n",
       "...                                                    ...   \n",
       "1296376  https://www.linkedin.com/jobs/view/community-a...   \n",
       "1296377  https://www.linkedin.com/jobs/view/sr-it-analy...   \n",
       "1296378  https://www.linkedin.com/jobs/view/operations-...   \n",
       "1296379  https://www.linkedin.com/jobs/view/float-patie...   \n",
       "1296380  https://www.linkedin.com/jobs/view/conductor-e...   \n",
       "\n",
       "                                                job_skills  \n",
       "0        Building Custodial Services, Cleaning, Janitor...  \n",
       "1        Customer service, Restaurant management, Food ...  \n",
       "2        Applied Behavior Analysis (ABA), Data analysis...  \n",
       "3        Electrical Engineering, Project Controls, Sche...  \n",
       "4        Electrical Assembly, Point to point wiring, St...  \n",
       "...                                                    ...  \n",
       "1296376  Communication Skills, Time Management, Custome...  \n",
       "1296377  Windows SQL, EDI X12, Edifecs Platform, Health...  \n",
       "1296378  Adaptability, Communication, Digital Fluency, ...  \n",
       "1296379  CNA, EMT, BLS, Medical Assistant, CPCT, LPN, R...  \n",
       "1296380  Customer Service, Driving, Loading, Unloading,...  \n",
       "\n",
       "[1294346 rows x 2 columns]"
      ]
     },
     "execution_count": 46,
     "metadata": {},
     "output_type": "execute_result"
    }
   ],
   "source": [
    "job_skills"
   ]
  },
  {
   "cell_type": "code",
   "execution_count": 47,
   "id": "875e30e7",
   "metadata": {},
   "outputs": [
    {
     "data": {
      "text/plain": [
       "job_link      0\n",
       "job_skills    0\n",
       "dtype: int64"
      ]
     },
     "execution_count": 47,
     "metadata": {},
     "output_type": "execute_result"
    }
   ],
   "source": [
    "job_skills.isna().sum()"
   ]
  },
  {
   "cell_type": "code",
   "execution_count": 48,
   "id": "2fa64953",
   "metadata": {},
   "outputs": [
    {
     "data": {
      "text/html": [
       "<div>\n",
       "<style scoped>\n",
       "    .dataframe tbody tr th:only-of-type {\n",
       "        vertical-align: middle;\n",
       "    }\n",
       "\n",
       "    .dataframe tbody tr th {\n",
       "        vertical-align: top;\n",
       "    }\n",
       "\n",
       "    .dataframe thead th {\n",
       "        text-align: right;\n",
       "    }\n",
       "</style>\n",
       "<table border=\"1\" class=\"dataframe\">\n",
       "  <thead>\n",
       "    <tr style=\"text-align: right;\">\n",
       "      <th></th>\n",
       "      <th>job_link</th>\n",
       "      <th>last_processed_time</th>\n",
       "      <th>got_summary</th>\n",
       "      <th>got_ner</th>\n",
       "      <th>is_being_worked</th>\n",
       "      <th>job_title</th>\n",
       "      <th>company</th>\n",
       "      <th>job_location</th>\n",
       "      <th>first_seen</th>\n",
       "      <th>search_city</th>\n",
       "      <th>search_country</th>\n",
       "      <th>search_position</th>\n",
       "      <th>job_level</th>\n",
       "      <th>job_type</th>\n",
       "      <th>job_skills</th>\n",
       "      <th>skills_count</th>\n",
       "      <th>first_seen_date</th>\n",
       "      <th>process_duration</th>\n",
       "    </tr>\n",
       "  </thead>\n",
       "  <tbody>\n",
       "    <tr>\n",
       "      <th>0</th>\n",
       "      <td>https://www.linkedin.com/jobs/view/account-exe...</td>\n",
       "      <td>2024-01-21 07:12:29.00256+00</td>\n",
       "      <td>t</td>\n",
       "      <td>t</td>\n",
       "      <td>f</td>\n",
       "      <td>account executive - dispensing (norcal/norther...</td>\n",
       "      <td>bd</td>\n",
       "      <td>san diego, ca</td>\n",
       "      <td>2024-01-15</td>\n",
       "      <td>coronado</td>\n",
       "      <td>united states</td>\n",
       "      <td>color maker</td>\n",
       "      <td>mid senior</td>\n",
       "      <td>onsite</td>\n",
       "      <td>[medical equipment sales,  key competitors,  t...</td>\n",
       "      <td>26</td>\n",
       "      <td>2024-01-15</td>\n",
       "      <td>6</td>\n",
       "    </tr>\n",
       "    <tr>\n",
       "      <th>1</th>\n",
       "      <td>https://www.linkedin.com/jobs/view/registered-...</td>\n",
       "      <td>2024-01-21 07:39:58.88137+00</td>\n",
       "      <td>t</td>\n",
       "      <td>t</td>\n",
       "      <td>f</td>\n",
       "      <td>registered nurse - rn care manager</td>\n",
       "      <td>trinity health mi</td>\n",
       "      <td>norton shores, mi</td>\n",
       "      <td>2024-01-14</td>\n",
       "      <td>grand haven</td>\n",
       "      <td>united states</td>\n",
       "      <td>director nursing service</td>\n",
       "      <td>mid senior</td>\n",
       "      <td>onsite</td>\n",
       "      <td>[nursing,  bachelor of science in nursing,  ma...</td>\n",
       "      <td>17</td>\n",
       "      <td>2024-01-14</td>\n",
       "      <td>7</td>\n",
       "    </tr>\n",
       "  </tbody>\n",
       "</table>\n",
       "</div>"
      ],
      "text/plain": [
       "                                            job_link  \\\n",
       "0  https://www.linkedin.com/jobs/view/account-exe...   \n",
       "1  https://www.linkedin.com/jobs/view/registered-...   \n",
       "\n",
       "            last_processed_time got_summary got_ner is_being_worked  \\\n",
       "0  2024-01-21 07:12:29.00256+00           t       t               f   \n",
       "1  2024-01-21 07:39:58.88137+00           t       t               f   \n",
       "\n",
       "                                           job_title            company  \\\n",
       "0  account executive - dispensing (norcal/norther...                 bd   \n",
       "1                 registered nurse - rn care manager  trinity health mi   \n",
       "\n",
       "        job_location first_seen  search_city search_country  \\\n",
       "0      san diego, ca 2024-01-15     coronado  united states   \n",
       "1  norton shores, mi 2024-01-14  grand haven  united states   \n",
       "\n",
       "            search_position   job_level job_type  \\\n",
       "0               color maker  mid senior   onsite   \n",
       "1  director nursing service  mid senior   onsite   \n",
       "\n",
       "                                          job_skills  skills_count  \\\n",
       "0  [medical equipment sales,  key competitors,  t...            26   \n",
       "1  [nursing,  bachelor of science in nursing,  ma...            17   \n",
       "\n",
       "  first_seen_date  process_duration  \n",
       "0      2024-01-15                 6  \n",
       "1      2024-01-14                 7  "
      ]
     },
     "execution_count": 48,
     "metadata": {},
     "output_type": "execute_result"
    }
   ],
   "source": [
    "job_posting.head(2)"
   ]
  },
  {
   "cell_type": "code",
   "execution_count": 49,
   "id": "1aef13e0",
   "metadata": {},
   "outputs": [
    {
     "name": "stdout",
     "output_type": "stream",
     "text": [
      "You need on average 19 skills to apply for a job on linked in\n"
     ]
    }
   ],
   "source": [
    "print(f\"You need on average {int(job_posting.skills_count.median())} skills to apply for a job on linked in\")"
   ]
  },
  {
   "cell_type": "markdown",
   "id": "8410e6cf",
   "metadata": {},
   "source": [
    "# Recommend Job based on the skills"
   ]
  },
  {
   "cell_type": "code",
   "execution_count": 51,
   "id": "72dfb238",
   "metadata": {},
   "outputs": [],
   "source": [
    "from sklearn.feature_extraction.text import CountVectorizer\n",
    "from sklearn.metrics.pairwise import cosine_similarity\n",
    "\n",
    "df = job_posting\n",
    "\n",
    "df['job_skills_str'] = df['job_skills'].apply(lambda x: ' '.join(x))\n",
    "subset_df = df.sample(frac=0.01, random_state=1)\n",
    "vectorizer = CountVectorizer()\n",
    "\n",
    "skills_matrix = vectorizer.fit_transform(subset_df['job_skills_str'])\n",
    "\n",
    "cosine_sim = cosine_similarity(skills_matrix)\n",
    "\n",
    "def recommend_jobs(skills):\n",
    "    \n",
    "    skills_str = ' '.join(skills)\n",
    "    \n",
    "    skills_vec = vectorizer.transform([skills_str])\n",
    "    \n",
    "    sim_scores = cosine_similarity(skills_vec, skills_matrix).flatten()\n",
    "    \n",
    "    indices = sim_scores.argsort()[::-1]\n",
    "    \n",
    "    return subset_df['job_title'].iloc[indices[:10]]"
   ]
  },
  {
   "cell_type": "code",
   "execution_count": 52,
   "id": "0d993188",
   "metadata": {},
   "outputs": [
    {
     "name": "stdout",
     "output_type": "stream",
     "text": [
      "617799              account executive, industrial equipment\n",
      "618832                         enterprise account executive\n",
      "783945                       specialty gas sales specialist\n",
      "516668          customer service representative  store # 88\n",
      "485783    volunteer: lenexa thrift store cashier - ringi...\n",
      "422958                         outside sales representative\n",
      "621453               strategic enterprise account executive\n",
      "618000                                 account executive ae\n",
      "434998                                    account executive\n",
      "357659                                     district manager\n",
      "Name: job_title, dtype: object\n"
     ]
    }
   ],
   "source": [
    "print(recommend_jobs(['cashier','sales']))"
   ]
  },
  {
   "cell_type": "code",
   "execution_count": null,
   "id": "f9d91721",
   "metadata": {},
   "outputs": [],
   "source": []
  },
  {
   "cell_type": "code",
   "execution_count": null,
   "id": "b3f7e611",
   "metadata": {},
   "outputs": [],
   "source": []
  }
 ],
 "metadata": {
  "kernelspec": {
   "display_name": "Python 3 (ipykernel)",
   "language": "python",
   "name": "python3"
  },
  "language_info": {
   "codemirror_mode": {
    "name": "ipython",
    "version": 3
   },
   "file_extension": ".py",
   "mimetype": "text/x-python",
   "name": "python",
   "nbconvert_exporter": "python",
   "pygments_lexer": "ipython3",
   "version": "3.10.9"
  }
 },
 "nbformat": 4,
 "nbformat_minor": 5
}
